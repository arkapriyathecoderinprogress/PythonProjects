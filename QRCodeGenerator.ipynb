{
  "nbformat": 4,
  "nbformat_minor": 0,
  "metadata": {
    "colab": {
      "provenance": [],
      "authorship_tag": "ABX9TyNDRpERrKdV52bmKEUB+aX8",
      "include_colab_link": true
    },
    "kernelspec": {
      "name": "python3",
      "display_name": "Python 3"
    },
    "language_info": {
      "name": "python"
    }
  },
  "cells": [
    {
      "cell_type": "markdown",
      "metadata": {
        "id": "view-in-github",
        "colab_type": "text"
      },
      "source": [
        "<a href=\"https://colab.research.google.com/github/arkapriyathecoderinprogress/PythonProjects/blob/main/QRCodeGenerator.ipynb\" target=\"_parent\"><img src=\"https://colab.research.google.com/assets/colab-badge.svg\" alt=\"Open In Colab\"/></a>"
      ]
    },
    {
      "cell_type": "markdown",
      "source": [
        "# **QR Code Generator**"
      ],
      "metadata": {
        "id": "778wpQmTtRif"
      }
    },
    {
      "cell_type": "code",
      "source": [
        "!pip install qrcode[pil]"
      ],
      "metadata": {
        "colab": {
          "base_uri": "https://localhost:8080/"
        },
        "id": "HgAv0MOItZjh",
        "outputId": "4a4f3810-95bd-43f4-b01c-fc9805246768"
      },
      "execution_count": null,
      "outputs": [
        {
          "output_type": "stream",
          "name": "stdout",
          "text": [
            "Collecting qrcode[pil]\n",
            "  Downloading qrcode-7.4.2-py3-none-any.whl (46 kB)\n",
            "\u001b[?25l     \u001b[90m━━━━━━━━━━━━━━━━━━━━━━━━━━━━━━━━━━━━━━━━\u001b[0m \u001b[32m0.0/46.2 kB\u001b[0m \u001b[31m?\u001b[0m eta \u001b[36m-:--:--\u001b[0m\r\u001b[2K     \u001b[91m━━━━━━━━━━━━━━━━━━━━━━━━━━━━━━━━━━━\u001b[0m\u001b[90m╺\u001b[0m\u001b[90m━━━━\u001b[0m \u001b[32m41.0/46.2 kB\u001b[0m \u001b[31m1.3 MB/s\u001b[0m eta \u001b[36m0:00:01\u001b[0m\r\u001b[2K     \u001b[90m━━━━━━━━━━━━━━━━━━━━━━━━━━━━━━━━━━━━━━━━\u001b[0m \u001b[32m46.2/46.2 kB\u001b[0m \u001b[31m896.9 kB/s\u001b[0m eta \u001b[36m0:00:00\u001b[0m\n",
            "\u001b[?25hRequirement already satisfied: typing-extensions in /usr/local/lib/python3.10/dist-packages (from qrcode[pil]) (4.11.0)\n",
            "Collecting pypng (from qrcode[pil])\n",
            "  Downloading pypng-0.20220715.0-py3-none-any.whl (58 kB)\n",
            "\u001b[2K     \u001b[90m━━━━━━━━━━━━━━━━━━━━━━━━━━━━━━━━━━━━━━━━\u001b[0m \u001b[32m58.1/58.1 kB\u001b[0m \u001b[31m3.7 MB/s\u001b[0m eta \u001b[36m0:00:00\u001b[0m\n",
            "\u001b[?25hRequirement already satisfied: pillow>=9.1.0 in /usr/local/lib/python3.10/dist-packages (from qrcode[pil]) (9.4.0)\n",
            "Installing collected packages: pypng, qrcode\n",
            "Successfully installed pypng-0.20220715.0 qrcode-7.4.2\n"
          ]
        }
      ]
    },
    {
      "cell_type": "code",
      "source": [
        "import qrcode\n",
        "from PIL import Image, ImageDraw\n",
        "\n",
        "# Function to generate QR code and return as PIL Image\n",
        "def generate_qr_code(data):\n",
        "  qr=qrcode.QRCode(version=1, error_correction=qrcode.constants.ERROR_CORRECT_L, box_size=10, border=1)\n",
        "  qr.add_data(data)\n",
        "  qr.make(fit=True)\n",
        "  qr_img=qr.make_image(fill_color=\"black\", back_color=\"white\")\n",
        "  return qr_img\n",
        "\n",
        "# Generate QR code for a sample URL\n",
        "url=\"https://www.example.com\"\n",
        "qr_image=generate_qr_code(url)\n",
        "\n",
        "# Display the QR code\n",
        "qr_image.show()"
      ],
      "metadata": {
        "id": "99sGjtrCwoSl"
      },
      "execution_count": 3,
      "outputs": []
    },
    {
      "cell_type": "markdown",
      "source": [
        "**Line by line explanation of the above code:**\n",
        "\n",
        "1. ```python\n",
        "import qrcode\n",
        "from PIL import Image, ImageDraw\n",
        "```\n",
        "   Here, we import the necessary libraries:\n",
        "   - `qrcode` for generating QR codes.\n",
        "   - `PIL` (Python Imaging Library) for image manipulation. We specifically import `Image` and `ImageDraw` from PIL.\n",
        "\n",
        "2. ```python\n",
        "def generate_qr_code(data):\n",
        "    qr = qrcode.QRCode(version=1, error_correction=qrcode.constants.ERROR_CORRECT_L, box_size=10, border=4)\n",
        "    qr.add_data(data)\n",
        "    qr.make(fit=True)\n",
        "    qr_img = qr.make_image(fill_color=\"black\", back_color=\"white\")\n",
        "    return qr_img\n",
        "```\n",
        "   This code defines a function called `generate_qr_code` that takes `data` as a parameter. Inside the function:\n",
        "   - We create a `QRCode` object `qr` using `qrcode.QRCode`.\n",
        "   Certainly, let's break down the parameters used when creating the `QRCode` object in the `generate_qr_code` function:\n",
        "\n",
        "```python\n",
        "qr = qrcode.QRCode(version=1, error_correction=qrcode.constants.ERROR_CORRECT_L, box_size=10, border=4)\n",
        "```\n",
        "\n",
        "1. **Version**:\n",
        "   - The `version` parameter specifies the size and data capacity of the QR code. In this case, `version=1` means we are using QR code version 1, which is the smallest version and can store a limited amount of data. Higher versions can store more data but result in larger QR codes.\n",
        "\n",
        "2. **Error Correction Level**:\n",
        "   - The `error_correction` parameter specifies the error correction level for the QR code. In this case, `qrcode.constants.ERROR_CORRECT_L` sets the error correction level to 'L' (Low). There are four error correction levels available in QR codes:\n",
        "     - 'L' (Low): About 7% of codewords can be restored.\n",
        "     - 'M' (Medium): About 15% of codewords can be restored.\n",
        "     - 'Q' (Quartile): About 25% of codewords can be restored.\n",
        "     - 'H' (High): About 30% of codewords can be restored.\n",
        "\n",
        "3. **Box Size**:\n",
        "   - The `box_size` parameter determines the size of each \"box\" or pixel in the QR code image. A larger `box_size` value will result in a larger QR code image with clearer details.\n",
        "\n",
        "4. **Border**:\n",
        "   - The `border` parameter specifies the width of the white border around the QR code. It adds padding around the QR code to improve its readability and prevent cropping issues.\n",
        "\n",
        "  \n",
        "   - Add the input data to the QR code using `qr.add_data(data)`.\n",
        "   - Generate the QR code itself with `qr.make(fit=True)`.\n",
        "   - Create an image representation of the QR code (`qr_img`) using `qr.make_image()` with specified fill and background colors.\n",
        "   - Finally, we return the generated QR code image.\n",
        "\n",
        "\n",
        "\n",
        "3. ```python\n",
        "url = \"https://www.example.com\"\n",
        "qr_image = generate_qr_code(url)\n",
        "```\n",
        "   Here, we define a sample URL `\"https://www.example.com\"` and then call the `generate_qr_code` function with this URL as input. This generates a QR code image based on the URL and assigns it to the variable `qr_image`.\n",
        "\n",
        "\n",
        "\n",
        "4. ```python\n",
        "qr_image.show()\n",
        "```\n",
        "   This line displays the generated QR code image using the `show()` method of the `Image` object (`qr_image`). In Google Colab, this will open a pop-up window showing the QR code image.\n",
        "\n"
      ],
      "metadata": {
        "id": "wKdmWc-J0JTJ"
      }
    }
  ]
}