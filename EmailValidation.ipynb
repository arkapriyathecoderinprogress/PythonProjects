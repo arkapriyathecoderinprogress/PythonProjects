{
  "nbformat": 4,
  "nbformat_minor": 0,
  "metadata": {
    "colab": {
      "provenance": [],
      "authorship_tag": "ABX9TyOz90yD1y3TPTWcgeA3fqCE",
      "include_colab_link": true
    },
    "kernelspec": {
      "name": "python3",
      "display_name": "Python 3"
    },
    "language_info": {
      "name": "python"
    }
  },
  "cells": [
    {
      "cell_type": "markdown",
      "metadata": {
        "id": "view-in-github",
        "colab_type": "text"
      },
      "source": [
        "<a href=\"https://colab.research.google.com/github/arkapriyathecoderinprogress/PythonProjects/blob/main/EmailValidation.ipynb\" target=\"_parent\"><img src=\"https://colab.research.google.com/assets/colab-badge.svg\" alt=\"Open In Colab\"/></a>"
      ]
    },
    {
      "cell_type": "markdown",
      "source": [
        "# **E-mail Validation**"
      ],
      "metadata": {
        "id": "JQt-jTgEY76q"
      }
    },
    {
      "cell_type": "code",
      "source": [
        "email = input(\"Enter your e-mail: \")\n",
        "\n",
        "if len(email) >= 6 and email.count(\"@\") == 1:\n",
        "    username, domain = email.split(\"@\")\n",
        "    if domain.count(\".\") == 1:\n",
        "        username_valid = all(c.isalnum() or c in ['.', '_', '-'] for c in username)\n",
        "        domain_valid = all(c.isalnum() or c == '.' for c in domain)\n",
        "        if username_valid and domain_valid:\n",
        "            print(\"Your email is valid!\")\n",
        "        else:\n",
        "            print(\"Invalid characters in username or domain.\")\n",
        "    else:\n",
        "        print(\"Invalid domain format.\")\n",
        "else:\n",
        "    print(\"Invalid email format.\")"
      ],
      "metadata": {
        "colab": {
          "base_uri": "https://localhost:8080/"
        },
        "id": "DK0NhGWxZP4A",
        "outputId": "be07dc5d-dacf-41e2-c202-a6f58e9e6dc2"
      },
      "execution_count": 5,
      "outputs": [
        {
          "output_type": "stream",
          "name": "stdout",
          "text": [
            "Enter your e-mail: chandaarkapriya@gmail.com\n",
            "Your email is valid!\n"
          ]
        }
      ]
    },
    {
      "cell_type": "markdown",
      "source": [
        "**Line by line explanation of the above code:**\n",
        "\n",
        "1. `email = input(\"Enter your e-mail: \")`: This line prompts the user to enter their email address and assigns the input to the variable `email`.\n",
        "\n",
        "2. ```python\n",
        "   if len(email) >= 6 and email.count(\"@\") == 1:\n",
        "   ```\n",
        "   Here, we are checking two conditions:\n",
        "   - `len(email) >= 6`: Ensures that the email address is at least 6 characters long, which is a basic requirement for most email addresses.\n",
        "   - `email.count(\"@\") == 1`: Checks that the email contains exactly one \"@\" symbol, which is necessary for a valid email format.\n",
        "\n",
        "3. ```python\n",
        "   username, domain = email.split(\"@\")\n",
        "   ```\n",
        "   This line splits the email address into two parts based on the \"@\" symbol. It assigns the part before \"@\" to `username` and the part after \"@\" to `domain`.\n",
        "\n",
        "4. ```python\n",
        "   if domain.count(\".\") == 1:\n",
        "   ```\n",
        "   Here, we check if the domain part contains exactly one \".\" symbol. This is a basic validation to ensure a proper domain format.\n",
        "\n",
        "5. ```python\n",
        "   username_valid = all(c.isalnum() or c in ['.', '_', '-'] for c in username)\n",
        "   domain_valid = all(c.isalnum() or c == '.' for c in domain)\n",
        "   ```\n",
        "   These lines validate the username and domain parts separately:\n",
        "   - `username_valid` checks if all characters in the username are alphanumeric or are one of the allowed special characters \".\", \"_\", or \"-\".\n",
        "   - `domain_valid` checks if all characters in the domain are alphanumeric or are \".\" (period), which is typical for domain names.\n",
        "\n",
        "6. ```python\n",
        "   if username_valid and domain_valid:\n",
        "   ```\n",
        "   This condition checks if both the username and domain are valid based on the criteria specified earlier.\n",
        "\n",
        "7. ```python\n",
        "   print(\"Your email is valid!\")\n",
        "   ```\n",
        "   If the email passes all validations, this line prints a message indicating that the email is valid.\n",
        "\n",
        "8. ```python\n",
        "   else:\n",
        "       print(\"Invalid characters in username or domain.\")\n",
        "   ```\n",
        "   If there are invalid characters in either the username or domain, this line prints a message indicating that there are invalid characters.\n",
        "\n",
        "9. ```python\n",
        "   else:\n",
        "       print(\"Invalid domain format.\")\n",
        "   ```\n",
        "   If the domain format is incorrect (e.g., more than one dot), this line prints a message indicating an invalid domain format.\n",
        "\n",
        "10. ```python\n",
        "    else:\n",
        "        print(\"Invalid email format.\")\n",
        "    ```\n",
        "    If the email does not meet the basic requirements (e.g., length or \"@\" count), this line prints a message indicating an invalid email format.\n",
        "\n",
        "Overall, this code performs a comprehensive validation of the email address based on length, \"@\" count, domain format, and character validity in both the username and domain parts."
      ],
      "metadata": {
        "id": "6srX4KBVloKw"
      }
    }
  ]
}